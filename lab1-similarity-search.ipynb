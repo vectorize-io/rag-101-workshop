{
  "nbformat": 4,
  "nbformat_minor": 5,
  "metadata": {
    "colab": {
      "provenance": []
    },
    "language_info": {
      "name": "python"
    },
    "kernelspec": {
      "name": "python3",
      "display_name": "Python 3"
    }
  },
  "cells": [
    {
      "id": "4a250e70",
      "cell_type": "markdown",
      "source": [
        "# Sentence Similarity Demo with Sentence Transformers"
      ],
      "metadata": {
        "id": "4a250e70"
      }
    },
    {
      "id": "77cf00ed",
      "cell_type": "markdown",
      "source": [
        "## 🧠 Step 1: Install and Import Dependencies"
      ],
      "metadata": {
        "id": "77cf00ed"
      }
    },
    {
      "id": "c9ec244f",
      "cell_type": "code",
      "metadata": {
        "id": "c9ec244f"
      },
      "execution_count": null,
      "source": [
        "!pip install -q sentence-transformers"
      ],
      "outputs": []
    },
    {
      "id": "b02162c1",
      "cell_type": "code",
      "metadata": {
        "id": "b02162c1"
      },
      "execution_count": null,
      "source": [
        "from sentence_transformers import SentenceTransformer, util\n",
        "import torch"
      ],
      "outputs": []
    },
    {
      "id": "7a944a7d",
      "cell_type": "markdown",
      "source": [
        "## 🤖 Step 2: Load Pretrained Sentence Transformer Model"
      ],
      "metadata": {
        "id": "7a944a7d"
      }
    },
    {
      "id": "bd335eac",
      "cell_type": "code",
      "metadata": {
        "id": "bd335eac"
      },
      "execution_count": null,
      "source": [
        "model = SentenceTransformer('all-MiniLM-L6-v2')"
      ],
      "outputs": []
    },
    {
      "id": "49f35559",
      "cell_type": "markdown",
      "source": [
        "## 📝 Step 3: Define a List of Clustered Sentences\n",
        "Grouped into weather, food, and travel topics so you can see how similarity naturally clusters."
      ],
      "metadata": {
        "id": "49f35559"
      }
    },
    {
      "id": "ec9e5129",
      "cell_type": "code",
      "metadata": {
        "id": "ec9e5129"
      },
      "execution_count": null,
      "source": [
        "sentences = [\n",
        "    # Weather\n",
        "    \"It looks like it's going to rain today.\",\n",
        "    \"The forecast says we can expect sunshine all week.\",\n",
        "    \"I love watching thunderstorms from my porch.\",\n",
        "\n",
        "    # Food\n",
        "    \"Pizza is my favorite food.\",\n",
        "    \"I had a delicious burger for lunch.\",\n",
        "    \"She baked an amazing chocolate cake yesterday.\",\n",
        "\n",
        "    # Travel\n",
        "    \"We flew to Paris last summer.\",\n",
        "    \"He's planning a road trip across the US.\",\n",
        "    \"They booked a cruise to the Caribbean.\"\n",
        "]"
      ],
      "outputs": []
    },
    {
      "id": "6a129470",
      "cell_type": "markdown",
      "source": [
        "## 🧬 Step 4: Generate Sentence Embeddings"
      ],
      "metadata": {
        "id": "6a129470"
      }
    },
    {
      "id": "d5fc0746",
      "cell_type": "code",
      "metadata": {
        "id": "d5fc0746"
      },
      "execution_count": null,
      "source": [
        "embeddings = model.encode(sentences, convert_to_tensor=True)"
      ],
      "outputs": []
    },
    {
      "id": "f6c2a04b",
      "cell_type": "markdown",
      "source": [
        "## 📐 Step 5: Compute Cosine Similarity Matrix"
      ],
      "metadata": {
        "id": "f6c2a04b"
      }
    },
    {
      "id": "dff56ee4",
      "cell_type": "code",
      "metadata": {
        "id": "dff56ee4"
      },
      "execution_count": null,
      "source": [
        "cosine_scores = util.pytorch_cos_sim(embeddings, embeddings)"
      ],
      "outputs": []
    },
    {
      "id": "38d53cec",
      "cell_type": "markdown",
      "source": [
        "## 🔍 Step 6: Print the Most Similar Sentence for Each One"
      ],
      "metadata": {
        "id": "38d53cec"
      }
    },
    {
      "id": "532ad117",
      "cell_type": "code",
      "metadata": {
        "id": "532ad117"
      },
      "execution_count": null,
      "source": [
        "print(\"Most similar sentences:\\n\")\n",
        "for i in range(len(sentences)):\n",
        "    # Exclude self-comparison\n",
        "    cosine_scores[i][i] = -1\n",
        "    most_similar_idx = torch.argmax(cosine_scores[i]).item()\n",
        "    print(f\"\\nBase sentence: {sentences[i]}\\nMost similar : {sentences[most_similar_idx]}\")"
      ],
      "outputs": []
    }
  ]
}